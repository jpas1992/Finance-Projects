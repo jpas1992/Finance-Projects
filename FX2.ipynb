{
 "cells": [
  {
   "cell_type": "code",
   "execution_count": 1,
   "id": "6ec10264",
   "metadata": {},
   "outputs": [],
   "source": [
    "import numpy as np\n",
    "import pandas as pd\n",
    "import matplotlib.pyplot as plt  "
   ]
  },
  {
   "cell_type": "markdown",
   "id": "908e2a2e",
   "metadata": {},
   "source": [
    "The goal of this small project is to:\n",
    "\n",
    "1) write the code describing a binomial tree for a FX rate of GBP-USD. implement option pricing using Black-Scholes\n",
    "\n",
    "2) use it to convert a given cashflow and calculate its internal rate of return\n",
    "\n",
    "3) repeat the exercise if we include a put option in the portfolio."
   ]
  },
  {
   "cell_type": "markdown",
   "id": "011bb283",
   "metadata": {},
   "source": [
    "First, let's implement a binomial tree for the asset (FX rate)"
   ]
  },
  {
   "cell_type": "code",
   "execution_count": 2,
   "id": "5392de30",
   "metadata": {},
   "outputs": [],
   "source": [
    "def binomial_tree(S0, nu, N):\n",
    "    \"\"\"\"\" Binomial tree for an asset with initial spot price S0 over N periods.\n",
    "    nu determines how the price goes up or down on the tree: S[j] -> ((1+ nu) S[j], (1-nu)S[j]) \"\"\"\n",
    "    return [[S0*(1+nu)**(j-i)*(1-nu)**i for i in range(j+1)] for j in range(N+1)]"
   ]
  },
  {
   "cell_type": "code",
   "execution_count": 3,
   "id": "2f4868d8",
   "metadata": {},
   "outputs": [
    {
     "name": "stdout",
     "output_type": "stream",
     "text": [
      "[1.0]\n",
      "[1.05, 0.95]\n",
      "[1.1025, 0.9974999999999999, 0.9025]\n"
     ]
    }
   ],
   "source": [
    "#Example\n",
    "tree = binomial_tree(S0 = 1, nu = 0.05, N = 2)\n",
    "for branch in tree:\n",
    "    print(branch)\n",
    "del(tree)"
   ]
  },
  {
   "cell_type": "markdown",
   "id": "9dfff52a",
   "metadata": {},
   "source": [
    "Let's price a European put option on a binomial tree"
   ]
  },
  {
   "cell_type": "code",
   "execution_count": 4,
   "id": "1451ef4e",
   "metadata": {},
   "outputs": [],
   "source": [
    "def opt_E_put(S0, nu, N, K):\n",
    "    \"\"\"Price of a European put option on a binomial tree.\n",
    "    S0 is the initial spot price of the underlying.\n",
    "    N is the number of periods until the option matures.\n",
    "    nu determines how the price of the underlying goes up or down: S[j] -> ((1+ nu) S[j], (1-nu)S[j]).\n",
    "    K is the strike price at maturity.\"\"\"\n",
    "    \n",
    "    #start by pricing the option at maturity.\n",
    "    \n",
    "    tree = [[ max(K- S0*(1+nu)**(N-i)*(1-nu)**i, 0) for i in range(N+1)]]\n",
    "    \n",
    "    # use risk neutral probabilities to calculate the price before maturity\n",
    "    # risk neutral probabilities are 1/2\n",
    "    \n",
    "    curr = tree[0] \n",
    "    l = N+1 #branch of the tree\n",
    "    while l > 1:\n",
    "        nex = [0.5*curr[i]+0.5*curr[i+1] for i in range(l-1)]\n",
    "        tree.append(nex)\n",
    "        curr = nex\n",
    "        l -=1\n",
    "    tree.reverse()\n",
    "    return tree[0][0]"
   ]
  },
  {
   "cell_type": "code",
   "execution_count": 5,
   "id": "be8c5ed0",
   "metadata": {},
   "outputs": [
    {
     "name": "stdout",
     "output_type": "stream",
     "text": [
      "0.03281665625000002\n"
     ]
    }
   ],
   "source": [
    "#Example\n",
    "S0 = 1.28065\n",
    "nu = 0.05\n",
    "N =2\n",
    "K = 1.28065\n",
    "print(opt_E_put(S0, nu, N, K))\n",
    "del(S0,nu,N,K)"
   ]
  },
  {
   "cell_type": "markdown",
   "id": "af45b905",
   "metadata": {},
   "source": [
    "# How to calibrate a model given a market price for the option"
   ]
  },
  {
   "cell_type": "markdown",
   "id": "31387bc6",
   "metadata": {},
   "source": [
    "Before directly answering the question, let's plot the value V of an option as a function of the parameter nu "
   ]
  },
  {
   "cell_type": "code",
   "execution_count": 7,
   "id": "e7c855cd",
   "metadata": {},
   "outputs": [
    {
     "data": {
      "image/png": "[encoded data removed]",
      "text/plain": [
       "<Figure size 640x480 with 1 Axes>"
      ]
     },
     "metadata": {},
     "output_type": "display_data"
    }
   ],
   "source": [
    "S0 = 1.28065\n",
    "N =4\n",
    "K = 1.28065\n",
    "nus = [0.01*i for i in range(1,100)] # list of nu, for plotting\n",
    "values = [opt_E_put(S0, nu, N, K) for nu in nus] # list of values, for plotting\n",
    "plt.plot(nus, values, \"o\")  \n",
    "plt.xlabel('nu')  \n",
    "plt.ylabel('value of option')\n",
    "plt.title('Is the value of an option a monotonic function of nu?')  \n",
    "plt.show() \n",
    "del(S0,nus,values,K,N)"
   ]
  },
  {
   "cell_type": "markdown",
   "id": "cea890f4",
   "metadata": {},
   "source": [
    "So, we want to solve the equation V_option(nu) = V, where V is the market value of the option. We know that this equation has a solution because the plot above implies that V_option(nu) is bijective.\n",
    "\n",
    "We will apply the Newton-Raphson method to numerically solve these equations."
   ]
  },
  {
   "cell_type": "code",
   "execution_count": 8,
   "id": "361a858c",
   "metadata": {},
   "outputs": [],
   "source": [
    "def cal_opt_E_put(S0, N, K, V, nu_0 = 0.05, max_iter = 10**3, delta_nu = 0.01):\n",
    "    \"\"\"Function that calibrates the parameter nu of a European put option.\n",
    "        \n",
    "    S0 is the spot price of the underlying at time t=0.\n",
    "    N is the number of periods until maturity of the option.\n",
    "    K is the strike price.\n",
    "    V is the market value of the option at t=0.\n",
    "    \n",
    "    This function employs the Newton-Raphson numerical method.\n",
    "    nu_0 is the initial guess for nu.\n",
    "    max_iter is the maximum number of iterations allowed in Newton-Raphson.\n",
    "    delta_nu is a parameter to evaluate derivatives in Newton-Raphson.\n",
    "    (smaller delta_nu makes the algorithm slower but more likely to converge)\n",
    "    \"\"\"\n",
    "    \n",
    "    error = abs(opt_E_put(S0, nu_0, N, K) - V)\n",
    "    threshold  = 10**(-5) * V #precision we set\n",
    "    i = 0 #number of interations of Newton-Raphson\n",
    "    \n",
    "    while error > threshold and i < max_iter:\n",
    "        derivative = (opt_E_put(S0, nu_0 + delta_nu, N, K) - opt_E_put(S0, nu_0, N, K))/delta_nu\n",
    "        nu_0 = nu_0 - (opt_E_put(S0, nu_0, N, K) -V )/ derivative #update nu_0\n",
    "        error = abs(opt_E_put(S0, nu_0, N, K) - V) #recompute error\n",
    "        i +=1\n",
    "        print('number of iterations is ' + str(i))\n",
    "    \n",
    "    if error < threshold:\n",
    "        print('Algorithm converged! '+' nu is equal to '+str(round(nu_0,3)))\n",
    "        return nu_0\n",
    "    else:\n",
    "        print('Algorithm failed to converge. Change the settings of nu_0, max_iter or delta_nu.')    "
   ]
  },
  {
   "cell_type": "code",
   "execution_count": 9,
   "id": "c333252d",
   "metadata": {},
   "outputs": [
    {
     "name": "stdout",
     "output_type": "stream",
     "text": [
      "number of iterations is 1\n",
      "number of iterations is 2\n",
      "Algorithm converged!  nu is equal to 0.112\n"
     ]
    }
   ],
   "source": [
    "#Example\n",
    "S0 = 1.28065\n",
    "N = 12\n",
    "K= S0\n",
    "V = 0.2 # value of the option\n",
    "nu = cal_opt_E_put(S0, N, K, V)\n",
    "del(S0,N,K,V,nu)"
   ]
  },
  {
   "cell_type": "markdown",
   "id": "53a8587c",
   "metadata": {},
   "source": [
    "# Cashflow"
   ]
  },
  {
   "cell_type": "markdown",
   "id": "4350b2d3",
   "metadata": {},
   "source": [
    "First, let's import the file from excel to python"
   ]
  },
  {
   "cell_type": "code",
   "execution_count": 12,
   "id": "55793b80",
   "metadata": {},
   "outputs": [
    {
     "data": {
      "text/html": [
       "<div>\n",
       "<style scoped>\n",
       "    .dataframe tbody tr th:only-of-type {\n",
       "        vertical-align: middle;\n",
       "    }\n",
       "\n",
       "    .dataframe tbody tr th {\n",
       "        vertical-align: top;\n",
       "    }\n",
       "\n",
       "    .dataframe thead th {\n",
       "        text-align: right;\n",
       "    }\n",
       "</style>\n",
       "<table border=\"1\" class=\"dataframe\">\n",
       "  <thead>\n",
       "    <tr style=\"text-align: right;\">\n",
       "      <th></th>\n",
       "      <th>Time</th>\n",
       "      <th>Fund</th>\n",
       "      <th>Cashflow Type</th>\n",
       "      <th>Cashflow Amount (in Local Asset Currecny)</th>\n",
       "      <th>Local Asset Currency</th>\n",
       "      <th>Fund Currency</th>\n",
       "      <th>Base Case IRR</th>\n",
       "    </tr>\n",
       "  </thead>\n",
       "  <tbody>\n",
       "    <tr>\n",
       "      <th>0</th>\n",
       "      <td>2024-03-31</td>\n",
       "      <td>Validus V</td>\n",
       "      <td>Equity</td>\n",
       "      <td>-100000000</td>\n",
       "      <td>GBP</td>\n",
       "      <td>USD</td>\n",
       "      <td>0.149925</td>\n",
       "    </tr>\n",
       "    <tr>\n",
       "      <th>1</th>\n",
       "      <td>2025-03-31</td>\n",
       "      <td>Validus V</td>\n",
       "      <td>Proceeds</td>\n",
       "      <td>15000000</td>\n",
       "      <td>GBP</td>\n",
       "      <td>USD</td>\n",
       "      <td>NaN</td>\n",
       "    </tr>\n",
       "    <tr>\n",
       "      <th>2</th>\n",
       "      <td>2026-03-31</td>\n",
       "      <td>Validus V</td>\n",
       "      <td>Proceeds</td>\n",
       "      <td>15000000</td>\n",
       "      <td>GBP</td>\n",
       "      <td>USD</td>\n",
       "      <td>NaN</td>\n",
       "    </tr>\n",
       "    <tr>\n",
       "      <th>3</th>\n",
       "      <td>2027-03-31</td>\n",
       "      <td>Validus V</td>\n",
       "      <td>Proceeds</td>\n",
       "      <td>15000000</td>\n",
       "      <td>GBP</td>\n",
       "      <td>USD</td>\n",
       "      <td>NaN</td>\n",
       "    </tr>\n",
       "    <tr>\n",
       "      <th>4</th>\n",
       "      <td>2028-03-31</td>\n",
       "      <td>Validus V</td>\n",
       "      <td>Proceeds</td>\n",
       "      <td>15000000</td>\n",
       "      <td>GBP</td>\n",
       "      <td>USD</td>\n",
       "      <td>NaN</td>\n",
       "    </tr>\n",
       "    <tr>\n",
       "      <th>5</th>\n",
       "      <td>2029-03-31</td>\n",
       "      <td>Validus V</td>\n",
       "      <td>Proceeds</td>\n",
       "      <td>115000000</td>\n",
       "      <td>GBP</td>\n",
       "      <td>USD</td>\n",
       "      <td>NaN</td>\n",
       "    </tr>\n",
       "  </tbody>\n",
       "</table>\n",
       "</div>"
      ],
      "text/plain": [
       "        Time       Fund Cashflow Type  \\\n",
       "0 2024-03-31  Validus V        Equity   \n",
       "1 2025-03-31  Validus V      Proceeds   \n",
       "2 2026-03-31  Validus V      Proceeds   \n",
       "3 2027-03-31  Validus V      Proceeds   \n",
       "4 2028-03-31  Validus V      Proceeds   \n",
       "5 2029-03-31  Validus V      Proceeds   \n",
       "\n",
       "   Cashflow Amount (in Local Asset Currecny) Local Asset Currency  \\\n",
       "0                                 -100000000                  GBP   \n",
       "1                                   15000000                  GBP   \n",
       "2                                   15000000                  GBP   \n",
       "3                                   15000000                  GBP   \n",
       "4                                   15000000                  GBP   \n",
       "5                                  115000000                  GBP   \n",
       "\n",
       "  Fund Currency  Base Case IRR  \n",
       "0           USD       0.149925  \n",
       "1           USD            NaN  \n",
       "2           USD            NaN  \n",
       "3           USD            NaN  \n",
       "4           USD            NaN  \n",
       "5           USD            NaN  "
      ]
     },
     "execution_count": 12,
     "metadata": {},
     "output_type": "execute_result"
    }
   ],
   "source": [
    "df = pd.read_excel('Quantitative_Analyst_Case_Study_2024_Cashflow_Model.xlsx')\n",
    "df"
   ]
  },
  {
   "cell_type": "markdown",
   "id": "e178a41a",
   "metadata": {},
   "source": [
    "In the table above, the cashflows happen yearly, whereas in our binomial model each period lasts 6 months. Thus, the table of cashflows per period in GBP is equal to:"
   ]
  },
  {
   "cell_type": "code",
   "execution_count": 13,
   "id": "0a51141b",
   "metadata": {},
   "outputs": [
    {
     "name": "stdout",
     "output_type": "stream",
     "text": [
      "[-100000000   15000000   15000000   15000000   15000000  115000000]\n",
      "[-100000000, 0, 15000000, 0, 15000000, 0, 15000000, 0, 15000000, 0, 115000000]\n"
     ]
    }
   ],
   "source": [
    "annual_cashflow_GBP = df['Cashflow Amount (in Local Asset Currecny)'].to_numpy()\n",
    "print(annual_cashflow_GBP)\n",
    "bi_annual_cashflow_GBP = [annual_cashflow_GBP[i//2] if i%2==0 else 0 for i in range(11)]\n",
    "print(bi_annual_cashflow_GBP)"
   ]
  },
  {
   "cell_type": "markdown",
   "id": "ee23ece3",
   "metadata": {},
   "source": [
    "Now let's write a function that determines the internal rate of return of a given cashflow. The function is agnostic about the currency. We will once again use Newton-Raphson to numerically solve an equation."
   ]
  },
  {
   "cell_type": "code",
   "execution_count": 14,
   "id": "77070824",
   "metadata": {},
   "outputs": [],
   "source": [
    "def irr(cashflow):\n",
    "    \"\"\"Function that determines the internal rate of return given a cashflow.\n",
    "    It is agnostic about the currency.\n",
    "    \"\"\"\n",
    "    \n",
    "    def aux(cashflow, int_rate_return):\n",
    "        #Auxiliary function, where we put the internal rate of return formula\n",
    "        return sum(cashflow[i]/(1+int_rate_return)**i for i in range(len(cashflow)))\n",
    "    \n",
    "    int_rate_return = 0.1 #initial guess for irr\n",
    "    delta_int_rate_return = 10**(-2) #parameter in newton-raphson\n",
    "    error = abs(aux(cashflow, int_rate_return))  #error that we will minimize\n",
    "    threshold = 1 #threshold to stop the algorithm\n",
    "    i = 0 #number of iterations of Newton-Raphson\n",
    "    \n",
    "    while error > threshold:\n",
    "        derivative = (aux(cashflow, int_rate_return + delta_int_rate_return) - aux(cashflow, int_rate_return))/delta_int_rate_return\n",
    "        #update internal rate of return\n",
    "        int_rate_return = int_rate_return - aux(cashflow, int_rate_return)/derivative\n",
    "        error = abs(aux(cashflow, int_rate_return))\n",
    "        i +=1\n",
    "    \n",
    "    if error < threshold:\n",
    "        return int_rate_return\n",
    "    else:\n",
    "        print('There was a problem. Check whether the inputs make sense as cashflows.')      "
   ]
  },
  {
   "cell_type": "code",
   "execution_count": 15,
   "id": "524afb34",
   "metadata": {},
   "outputs": [
    {
     "name": "stdout",
     "output_type": "stream",
     "text": [
      "0.1499999992056431\n"
     ]
    }
   ],
   "source": [
    "#Example\n",
    "print(irr(annual_cashflow_GBP)) #this mathes the base case in the excel file"
   ]
  },
  {
   "cell_type": "markdown",
   "id": "2c30009a",
   "metadata": {},
   "source": [
    "Finally, let us construct a function that simulates the FX spot rate paths, determines the associated cashflows in USD and computes the internal rate of return for each path."
   ]
  },
  {
   "cell_type": "code",
   "execution_count": 16,
   "id": "1c75a790",
   "metadata": {},
   "outputs": [],
   "source": [
    "def irr_fx(bi_annual_cashflow_GBP, S0 = 1.28065, nu = 0.05, M = 10**4):\n",
    "    \"\"\"Function that simulates the FX GBPUSD spot rate paths in a binomial tree, \n",
    "    determines the biannual cashflows in USD given a biannual cashflow in GBP\n",
    "    and computes the internal rate of return for each path.\n",
    "    \n",
    "    bi_annual_cashflow_GBP is the bi annual cashflow in GBP\n",
    "    S0 is the initial FX spot rate\n",
    "    nu is a parameter in the binomial tree, that determines how the spot prices evolve\n",
    "    M is the number of paths we will sample\n",
    "    \"\"\"\n",
    "    N = len(bi_annual_cashflow_GBP)-1 #number of periods in the binomial tree\n",
    "    tree = binomial_tree(S0, nu, N)\n",
    "    irr_list = [] #list of internal rates of return we will calculate\n",
    "        \n",
    "    for ind in range(M):\n",
    "        spot_path = [tree[0][0]] # spot path\n",
    "        #traverse the tree\n",
    "        j = 0 #height of the tree\n",
    "        for i in range(1, N+1):\n",
    "            if np.random.rand() < 0.5:\n",
    "                pass\n",
    "            else:\n",
    "                j += 1\n",
    "            spot_path.append(tree[i][j])\n",
    "        #GBP to USD conversion:\n",
    "        bi_annual_cashflow_USD = np.array(bi_annual_cashflow_GBP)*np.array(spot_path)  \n",
    "        annual_cashflow_USD = [bi_annual_cashflow_USD[2*i] for i in range(N//2+1)]\n",
    "        irr_list.append(irr(annual_cashflow_USD)) #compute internal rate of return\n",
    "    return irr_list         "
   ]
  },
  {
   "cell_type": "code",
   "execution_count": 17,
   "id": "538dc476",
   "metadata": {},
   "outputs": [
    {
     "data": {
      "image/png": "[encoded data removed]",
      "text/plain": [
       "<Figure size 640x480 with 1 Axes>"
      ]
     },
     "metadata": {},
     "output_type": "display_data"
    }
   ],
   "source": [
    "# calculation of list of internal rate of returns over M paths simulated \n",
    "irr_list = irr_fx(bi_annual_cashflow_GBP, S0 = 1.28065, nu = 0.05, M = 7*10**4)\n",
    "\n",
    "#histogram\n",
    "\n",
    "n_bins = int(round((max(irr_list)-min(irr_list))/0.02,0))\n",
    "hist, bin_edges = np.histogram(irr_list, bins=n_bins, density=False)\n",
    "frequencies = hist/len(irr_list)*100\n",
    "bin_centers = [100*(bin_edges[i]+bin_edges[i+1])/2 for i in range(len(bin_edges)-1)]\n",
    "plt.bar(bin_centers, frequencies, width=1.8, align='center')\n",
    "plt.xlabel('Internal Rate of Return in %')  \n",
    "plt.ylabel('Probability in %')\n",
    "plt.title('Distribution of the Internal Rate of Return')\n",
    "plt.plot(bin_centers, frequencies, 'r')\n",
    "plt.show() \n",
    "del(n_bins, hist, bin_edges, frequencies, bin_centers)"
   ]
  },
  {
   "cell_type": "markdown",
   "id": "8f9ccd38",
   "metadata": {},
   "source": [
    "# Price of an Option"
   ]
  },
  {
   "cell_type": "markdown",
   "id": "92f734b9",
   "metadata": {},
   "source": [
    "The options's premium is equal to the notional amount times the premium of the option to exchange one pound over the same maturity."
   ]
  },
  {
   "cell_type": "code",
   "execution_count": 18,
   "id": "a6d45eb8",
   "metadata": {},
   "outputs": [
    {
     "name": "stdout",
     "output_type": "stream",
     "text": [
      "8048787.275357058\n"
     ]
    }
   ],
   "source": [
    "S0 = 1.28065\n",
    "N = 10\n",
    "nu = 0.05\n",
    "K = S0\n",
    "notional_amount = 10**8\n",
    "premium = opt_E_put(S0, nu, N, K)* notional_amount\n",
    "print(premium)\n",
    "del(S0, N, nu, K, notional_amount)"
   ]
  },
  {
   "cell_type": "markdown",
   "id": "66df2d5f",
   "metadata": {},
   "source": [
    "So, the european put option is worth around 8 million dollars at time t = 0."
   ]
  },
  {
   "cell_type": "markdown",
   "id": "0e0466bc",
   "metadata": {},
   "source": [
    "# Original Portfolio + Option"
   ]
  },
  {
   "cell_type": "markdown",
   "id": "15ea94f3",
   "metadata": {},
   "source": [
    "We need to modify our calculation of the internal rate of return in question 4 in two ways:\n",
    "\n",
    "1) the cashflow at t = 0 is changed by paying a premium for the option\n",
    "\n",
    "2) the cashflow at t = 5 years is changed by the possibility of exercising the European put option.\n",
    "\n",
    "In practice we simply calculate the cashflow associated to the option and add it to the previous calculated cashflow."
   ]
  },
  {
   "cell_type": "code",
   "execution_count": 19,
   "id": "fe51c962",
   "metadata": {},
   "outputs": [],
   "source": [
    "def irr_modified_fx(bi_annual_cashflow_GBP, S0 = 1.28065, nu = 0.05, M = 10**4, \n",
    "                    premium = 8048787.27535, notional_amount = 10**8):\n",
    "    \"\"\"Function that simulates the FX GBPUSD spot rate paths in a binomial tree, \n",
    "    determines the biannual cashflows in USD given a biannual cashflow in GBP\n",
    "    and computes the internal rate of return for each path.\n",
    "    \n",
    "    It includes the cashflow associated to the European put option\n",
    "    described earlier.\n",
    "        \n",
    "    bi_annual_cashflow_GBP is the bi annual cashflow in GBP\n",
    "    S0 is the initial FX spot rate\n",
    "    nu is a parameter in the binomial tree, that determines how the spot prices evolve\n",
    "    M is the number of paths we will sample\n",
    "    \n",
    "    premium is the price paid for the option at t = 0\n",
    "    notional_amount is the amount of pounds we will exchange at t = 5 years at the \n",
    "    t = 0 rate in case we exercise the option\n",
    "    \"\"\"\n",
    "    N = len(bi_annual_cashflow_GBP)-1 #number of periods in the binomial tree\n",
    "    tree = binomial_tree(S0, nu, N)\n",
    "    irr_list = [] #list of internal rates of return we will calculate\n",
    "    \n",
    "    #biannual cashflow associated to the option in USD\n",
    "    bi_annual_cashflow_opt_USD = [- premium] + [0 for i in range(N)]\n",
    "    # we will modify the last entry of the option cashflow for each path\n",
    "        \n",
    "    for ind in range(M):\n",
    "        spot_path = [tree[0][0]] # spot path\n",
    "        #traverse the tree\n",
    "        j = 0 #height of the tree\n",
    "        for i in range(1, N+1):\n",
    "            if np.random.rand() < 0.5:\n",
    "                pass\n",
    "            else:\n",
    "                j += 1\n",
    "            spot_path.append(tree[i][j])\n",
    "        #cashflow option    \n",
    "        bi_annual_cashflow_opt_USD[-1] = notional_amount * max(S0 - spot_path[-1], 0)\n",
    "        #GBP to USD conversion:\n",
    "        bi_annual_cashflow_USD = np.array(bi_annual_cashflow_GBP)*np.array(spot_path)\n",
    "        bi_annual_cashflow_USD = bi_annual_cashflow_USD + bi_annual_cashflow_opt_USD\n",
    "        annual_cashflow_USD = [bi_annual_cashflow_USD[2*i] for i in range(N//2+1)]\n",
    "        irr_list.append(irr(annual_cashflow_USD)) #compute internal rate of return\n",
    "    return irr_list         "
   ]
  },
  {
   "cell_type": "code",
   "execution_count": 20,
   "id": "73336080",
   "metadata": {},
   "outputs": [
    {
     "data": {
      "image/png": "[encoded data removed]",
      "text/plain": [
       "<Figure size 640x480 with 1 Axes>"
      ]
     },
     "metadata": {},
     "output_type": "display_data"
    }
   ],
   "source": [
    "# calculation of list of internal rate of returns over M paths simulated \n",
    "irr_list_hed = irr_modified_fx(bi_annual_cashflow_GBP, S0 = 1.28065, nu = 0.05, M = 7*10**4)\n",
    "\n",
    "#histogram\n",
    "\n",
    "n_bins = int(round((max(irr_list_hed)-min(irr_list_hed))/0.02,0))\n",
    "hist, bin_edges = np.histogram(irr_list_hed, bins=n_bins, density=False)\n",
    "frequencies = hist/len(irr_list_hed)*100\n",
    "bin_centers = [100*(bin_edges[i]+bin_edges[i+1])/2 for i in range(len(bin_edges)-1)]\n",
    "plt.bar(bin_centers, frequencies, width=1.8, align='center')\n",
    "plt.xlabel('Internal Rate of Return in %')  \n",
    "plt.ylabel('Probability in %')\n",
    "plt.title('Distribution of the Internal Rate of Return in Hedged Portfolio')\n",
    "plt.plot(bin_centers, frequencies, 'r')\n",
    "plt.show() \n",
    "del(n_bins, hist, bin_edges, frequencies, bin_centers)"
   ]
  },
  {
   "cell_type": "markdown",
   "id": "3546aaa0",
   "metadata": {},
   "source": [
    "We conclude that hedging the portfolio decreases the variance of the internal rate of return. It thus allow to decrease the risk, which is a positive outcome."
   ]
  },
  {
   "cell_type": "code",
   "execution_count": 21,
   "id": "2907c901",
   "metadata": {},
   "outputs": [
    {
     "name": "stdout",
     "output_type": "stream",
     "text": [
      "0.14807391988910362\n",
      "0.14036709128692934\n",
      "0.001358847819091345\n",
      "0.0006530817731297603\n",
      "0.5193856413100968\n"
     ]
    }
   ],
   "source": [
    "print(np.array(irr_list).mean() )\n",
    "print(np.array(irr_list_hed).mean() )\n",
    "print(np.array(irr_list).var() )\n",
    "print(np.array(irr_list_hed).var() )\n",
    "\n",
    "#percentate of improvement in variance\n",
    "print((np.array(irr_list).var() - np.array(irr_list_hed).var())/np.array(irr_list).var() )"
   ]
  },
  {
   "cell_type": "markdown",
   "id": "253d146f",
   "metadata": {},
   "source": [
    "The expected internal rate of return is roughly the same in the hedged and non-hedged portfolio, but the variance in the hedged portfolio is lower by 52%."
   ]
  }
 ],
 "metadata": {
  "kernelspec": {
   "display_name": "Python 3 (ipykernel)",
   "language": "python",
   "name": "python3"
  },
  "language_info": {
   "codemirror_mode": {
    "name": "ipython",
    "version": 3
   },
   "file_extension": ".py",
   "mimetype": "text/x-python",
   "name": "python",
   "nbconvert_exporter": "python",
   "pygments_lexer": "ipython3",
   "version": "3.11.5"
  }
 },
 "nbformat": 4,
 "nbformat_minor": 5
}
