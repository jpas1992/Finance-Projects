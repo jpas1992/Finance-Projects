{
 "cells": [
  {
   "cell_type": "code",
   "execution_count": 19,
   "id": "6d67e7cf",
   "metadata": {},
   "outputs": [],
   "source": [
    "import numpy as np"
   ]
  },
  {
   "cell_type": "markdown",
   "id": "4fe0cf07",
   "metadata": {},
   "source": [
    "The goal of this notebook is to carry out an assignment concerning mean_variance optimization.\n",
    "\n",
    "Consider a market with d=3 risky assets and 1 risk free assets. "
   ]
  },
  {
   "cell_type": "code",
   "execution_count": 26,
   "id": "8b0ee0d7",
   "metadata": {},
   "outputs": [],
   "source": [
    "ret = np.array([6, 2, 4]) #returns for the 3 risky assets\n",
    "cov = np.array([[8.0, -2.0, 4.0],\n",
    "                [-2.0, 2.0, -2.0],\n",
    "                [4.0, -2.0, 8.0]])*10**(-3)# covariances among the 3 risky assets\n",
    "ret0 = 1 #return for the risk free asset"
   ]
  },
  {
   "cell_type": "markdown",
   "id": "da015c7d",
   "metadata": {},
   "source": [
    "Let us compute the correlation matrix"
   ]
  },
  {
   "cell_type": "code",
   "execution_count": 21,
   "id": "5e38b3f9",
   "metadata": {},
   "outputs": [
    {
     "name": "stdout",
     "output_type": "stream",
     "text": [
      "[1.0, -0.5, 0.5]\n",
      "[-0.5, 1.0, -0.5]\n",
      "[0.5, -0.5, 1.0]\n"
     ]
    }
   ],
   "source": [
    "corr = [[cov[i,j]/(cov[i,i]*cov[j,j])**(0.5) for i in range(3)] for j in range(3)]\n",
    "for l in corr:\n",
    "    print(l)"
   ]
  },
  {
   "cell_type": "markdown",
   "id": "b44b7619",
   "metadata": {},
   "source": [
    "# Question 1"
   ]
  },
  {
   "cell_type": "markdown",
   "id": "294e8079",
   "metadata": {},
   "source": [
    "Compute the mean return on the portfolio x= 1/(3.0)[1,1,1]"
   ]
  },
  {
   "cell_type": "code",
   "execution_count": 22,
   "id": "d4183fb6",
   "metadata": {},
   "outputs": [
    {
     "data": {
      "text/plain": [
       "4.0"
      ]
     },
     "execution_count": 22,
     "metadata": {},
     "output_type": "execute_result"
    }
   ],
   "source": [
    "x = 1/(3.0)*np.array([1,1,1])\n",
    "np.inner(ret, x)"
   ]
  },
  {
   "cell_type": "markdown",
   "id": "4f64c225",
   "metadata": {},
   "source": [
    "# Question 2 "
   ]
  },
  {
   "cell_type": "markdown",
   "id": "49a913b7",
   "metadata": {},
   "source": [
    "For the same portfolio, compute the volatility"
   ]
  },
  {
   "cell_type": "code",
   "execution_count": 23,
   "id": "281b06f9",
   "metadata": {},
   "outputs": [
    {
     "data": {
      "text/plain": [
       "0.04472135954999579"
      ]
     },
     "execution_count": 23,
     "metadata": {},
     "output_type": "execute_result"
    }
   ],
   "source": [
    "np.sqrt(np.inner(np.inner(x,cov),x))"
   ]
  },
  {
   "cell_type": "markdown",
   "id": "bf573d0a",
   "metadata": {},
   "source": [
    "# Question 3"
   ]
  },
  {
   "cell_type": "markdown",
   "id": "6f7c119a",
   "metadata": {},
   "source": [
    "Compute the return of the portfolio that only involves risky assets and that minimizes the volatility"
   ]
  },
  {
   "cell_type": "code",
   "execution_count": 24,
   "id": "af78928e",
   "metadata": {},
   "outputs": [
    {
     "data": {
      "text/plain": [
       "2.9999999999999996"
      ]
     },
     "execution_count": 24,
     "metadata": {},
     "output_type": "execute_result"
    }
   ],
   "source": [
    "np.inner(ret, [1/6.0,2/3.0, 1/6.0])"
   ]
  },
  {
   "cell_type": "markdown",
   "id": "88464bd1",
   "metadata": {},
   "source": [
    "# Question 4"
   ]
  },
  {
   "cell_type": "markdown",
   "id": "94e84240",
   "metadata": {},
   "source": [
    "Compute the return of the Sharpe Optimal portfolio"
   ]
  },
  {
   "cell_type": "code",
   "execution_count": 34,
   "id": "08c70ed2",
   "metadata": {},
   "outputs": [
    {
     "name": "stdout",
     "output_type": "stream",
     "text": [
      "3.416666666666667\n"
     ]
    }
   ],
   "source": [
    "a = np.inner(np.linalg.inv(cov),ret-ret0)\n",
    "a= (a/np.sum(a))\n",
    "return_sharpe = np.inner(ret,a )\n",
    "print(return_sharpe)"
   ]
  },
  {
   "cell_type": "markdown",
   "id": "8c80857e",
   "metadata": {},
   "source": [
    "# Question 5"
   ]
  },
  {
   "cell_type": "markdown",
   "id": "0f8e0552",
   "metadata": {},
   "source": [
    "Compute the volatility of the Sharpe Optimal Portfolio."
   ]
  },
  {
   "cell_type": "code",
   "execution_count": 36,
   "id": "a4c389a0",
   "metadata": {},
   "outputs": [
    {
     "name": "stdout",
     "output_type": "stream",
     "text": [
      "2.8382310609877335\n"
     ]
    }
   ],
   "source": [
    "vol_Sharpe = np.sqrt(np.inner(a,np.inner(cov,a )) ) * 10**2\n",
    "print(vol_Sharpe)"
   ]
  },
  {
   "cell_type": "markdown",
   "id": "e0cfa43c",
   "metadata": {},
   "source": [
    "# Question 6 "
   ]
  },
  {
   "cell_type": "markdown",
   "id": "e8f3086f",
   "metadata": {},
   "source": [
    "Compute the slope of the capital market line."
   ]
  },
  {
   "cell_type": "code",
   "execution_count": 38,
   "id": "67fe11e7",
   "metadata": {},
   "outputs": [
    {
     "data": {
      "text/plain": [
       "0.8514693182963202"
      ]
     },
     "execution_count": 38,
     "metadata": {},
     "output_type": "execute_result"
    }
   ],
   "source": [
    "(return_sharpe-ret0)/vol_Sharpe"
   ]
  },
  {
   "cell_type": "markdown",
   "id": "b4ed2900",
   "metadata": {},
   "source": [
    "# Question 7"
   ]
  },
  {
   "cell_type": "markdown",
   "id": "20e07dc7",
   "metadata": {},
   "source": [
    "Suppose the volatility of a an efficient investment opportunity is 5%. What is its return?"
   ]
  },
  {
   "cell_type": "code",
   "execution_count": 39,
   "id": "c36fe69a",
   "metadata": {},
   "outputs": [
    {
     "data": {
      "text/plain": [
       "5.2573465914816015"
      ]
     },
     "execution_count": 39,
     "metadata": {},
     "output_type": "execute_result"
    }
   ],
   "source": [
    "ret0 + (return_sharpe-ret0)/vol_Sharpe * 5"
   ]
  }
 ],
 "metadata": {
  "kernelspec": {
   "display_name": "Python 3 (ipykernel)",
   "language": "python",
   "name": "python3"
  },
  "language_info": {
   "codemirror_mode": {
    "name": "ipython",
    "version": 3
   },
   "file_extension": ".py",
   "mimetype": "text/x-python",
   "name": "python",
   "nbconvert_exporter": "python",
   "pygments_lexer": "ipython3",
   "version": "3.11.5"
  }
 },
 "nbformat": 4,
 "nbformat_minor": 5
}
